{
  "nbformat": 4,
  "nbformat_minor": 0,
  "metadata": {
    "kernelspec": {
      "language": "python",
      "display_name": "Python 3",
      "name": "python3"
    },
    "language_info": {
      "pygments_lexer": "ipython3",
      "nbconvert_exporter": "python",
      "version": "3.6.4",
      "file_extension": ".py",
      "codemirror_mode": {
        "name": "ipython",
        "version": 3
      },
      "name": "python",
      "mimetype": "text/x-python"
    },
    "colab": {
      "name": "shelf_image_detection_YoloV2.ipynb",
      "provenance": [],
      "collapsed_sections": [],
      "machine_shape": "hm"
    },
    "accelerator": "GPU"
  },
  "cells": [
    {
      "cell_type": "code",
      "metadata": {
        "_uuid": "8f2839f25d086af736a60e9eeb907d3b93b6e0e5",
        "_cell_guid": "b1076dfc-b9ad-4769-8c92-a6c4dae69d19",
        "trusted": true,
        "id": "a14T-aSrRu2X"
      },
      "source": [
        ""
      ],
      "execution_count": null,
      "outputs": []
    },
    {
      "cell_type": "code",
      "metadata": {
        "_uuid": "d629ff2d2480ee46fbb7e2d37f6b5fab8052498a",
        "_cell_guid": "79c7e3d0-c299-4dcb-8224-4455121ee9b0",
        "trusted": true,
        "id": "tWX7UsSERu2a"
      },
      "source": [
        "import numpy as np\n",
        "import pandas as pd\n",
        "import os\n",
        "import cv2\n",
        "from cv2 import imread, resize, imwrite\n",
        "import matplotlib.pyplot as plt\n",
        "from matplotlib.pyplot import imshow\n",
        "import matplotlib.image as mpimg\n",
        "from tensorflow.keras.preprocessing.image import load_img\n",
        "import glob\n",
        "import json\n",
        "import random\n",
        "from random import sample \n",
        "\n",
        "%matplotlib inline"
      ],
      "execution_count": null,
      "outputs": []
    },
    {
      "cell_type": "code",
      "metadata": {
        "colab": {
          "base_uri": "https://localhost:8080/"
        },
        "id": "cc0Dm4U2SLff",
        "outputId": "c28483b3-762f-4f04-be93-9a9018dbbde0"
      },
      "source": [
        "import urllib.request\n",
        "\n",
        "url = \"https://storage.googleapis.com/open_source_datasets/ShelfImages.tar.gz\"\n",
        "\n",
        "downloaded_filename = 'ShelfImages.tar.gz'\n",
        "\n",
        "urllib.request.urlretrieve(url, downloaded_filename)"
      ],
      "execution_count": null,
      "outputs": [
        {
          "output_type": "execute_result",
          "data": {
            "text/plain": [
              "('ShelfImages.tar.gz', <http.client.HTTPMessage at 0x7f0328511610>)"
            ]
          },
          "metadata": {},
          "execution_count": 2
        }
      ]
    },
    {
      "cell_type": "code",
      "metadata": {
        "id": "XcgI8dFxSMJD"
      },
      "source": [
        "import tarfile\n",
        "\n",
        "fname = downloaded_filename\n",
        "\n",
        "if fname.endswith(\"tar.gz\"):\n",
        "\n",
        "    tar = tarfile.open(fname, \"r:gz\")\n",
        "    tar.extractall()\n",
        "    tar.close()"
      ],
      "execution_count": null,
      "outputs": []
    },
    {
      "cell_type": "code",
      "metadata": {
        "id": "NVq8T_BISN8_"
      },
      "source": [
        "from zipfile import ZipFile\n",
        "ZipFile(\"/content/grocerydataset-master.zip\").extractall()"
      ],
      "execution_count": null,
      "outputs": []
    },
    {
      "cell_type": "code",
      "metadata": {
        "id": "Aq1oiBxvSS0P"
      },
      "source": [
        ""
      ],
      "execution_count": null,
      "outputs": []
    },
    {
      "cell_type": "code",
      "metadata": {
        "trusted": true,
        "id": "rMZIjn87Ru2a"
      },
      "source": [
        "IM_EXTENSIONS = ['png', 'jpg', 'bmp']\n",
        "\n",
        "def load_json(json_path):\n",
        "    with open(json_path, 'r') as f:\n",
        "        data = json.load(f)\n",
        "    return data\n",
        "\n",
        "def get_best_anchor(anchors, box_wh):\n",
        "    box_wh = np.array(box_wh)\n",
        "    best_iou = 0\n",
        "    best_anchor = 0\n",
        "    for k, anchor in enumerate(anchors):\n",
        "        intersect_wh = np.maximum(np.minimum(box_wh, anchor), 0.0)\n",
        "        intersect_area = intersect_wh[0] * intersect_wh[1]\n",
        "        box_area = box_wh[0] * box_wh[1]\n",
        "        anchor_area = anchor[0] * anchor[1]\n",
        "        iou = intersect_area / (box_area + anchor_area - intersect_area)\n",
        "        if iou > best_iou:\n",
        "            best_iou = iou\n",
        "            best_anchor = k\n",
        "    return best_anchor"
      ],
      "execution_count": null,
      "outputs": []
    },
    {
      "cell_type": "code",
      "metadata": {
        "trusted": true,
        "id": "-rhbjZz0Ru2b"
      },
      "source": [
        "def update_bbox(img_path, bboxes, shape):\n",
        "    img = load_img(img_path)\n",
        "    w, h = img.size\n",
        "    new_bbox = []\n",
        "    for bbox in bboxes:\n",
        "        x1, x2 = bbox[0], bbox[0]+bbox[2]\n",
        "        y1, y2 = bbox[1], bbox[1]+bbox[3]\n",
        "        new_bbox.append([x1, y1, x2, y2])\n",
        "    return new_bbox, (w, h)\n",
        "\n",
        "\n",
        "ROOT_PATH = \"/content\"\n",
        "ROOT_TRAIN_PATH = os.path.join(ROOT_PATH, \"ShelfImages\", \"train\")\n",
        "ROOT_TEST_PATH = os.path.join(ROOT_PATH, \"ShelfImages\", \"test\")\n",
        "TRAIN_ANNOTATIAONS = []\n",
        "TEST_ANNOTATIONS = []\n",
        "with open(os.path.join(ROOT_PATH, \"grocerydataset\", \"annotation.txt\")) as f:\n",
        "    for line in f.readlines():\n",
        "        a = line.split()\n",
        "        bboxes = []\n",
        "        for i in range(int(a[1])):\n",
        "            bboxes.append([int(j) for j in a[i*5 + 2: i*5+6]])\n",
        "        img = {}\n",
        "        if os.path.exists(os.path.join(ROOT_TRAIN_PATH, a[0])):\n",
        "            img['filename'] = os.path.join(ROOT_TRAIN_PATH, a[0])\n",
        "            bb, shape = update_bbox(os.path.join(ROOT_TRAIN_PATH, a[0]), bboxes, (416, 416))\n",
        "            img['width'] = shape[0]\n",
        "            img['height'] = shape[1]\n",
        "            img['object'] = []\n",
        "            for b in bb:\n",
        "                obj = {}\n",
        "                obj['name'] = \"pack\"\n",
        "                obj['xmin'], obj['ymin'], obj['xmax'], obj['ymax'] = b\n",
        "                img['object'] += [obj]\n",
        "                \n",
        "            TRAIN_ANNOTATIAONS += [img]\n",
        "        if os.path.exists(os.path.join(ROOT_TEST_PATH, a[0])):\n",
        "            img['filename'] = os.path.join(ROOT_TEST_PATH, a[0])\n",
        "            bb, shape = update_bbox(os.path.join(ROOT_TEST_PATH, a[0]), bboxes, (416, 416))\n",
        "            img['width'] = shape[0]\n",
        "            img['height'] = shape[1]\n",
        "            img['object'] = []\n",
        "            for b in bb:\n",
        "                obj = {}\n",
        "                obj['name'] = \"pack\"\n",
        "                obj['xmin'], obj['ymin'], obj['xmax'], obj['ymax'] = b\n",
        "                img['object'] += [obj]\n",
        "            \n",
        "            TEST_ANNOTATIONS += [img]"
      ],
      "execution_count": null,
      "outputs": []
    },
    {
      "cell_type": "code",
      "metadata": {
        "id": "BBMnRFS1TGlr"
      },
      "source": [
        ""
      ],
      "execution_count": null,
      "outputs": []
    },
    {
      "cell_type": "code",
      "metadata": {
        "trusted": true,
        "colab": {
          "base_uri": "https://localhost:8080/"
        },
        "id": "twP_QPK0Ru2c",
        "outputId": "c333bf50-5a18-49db-935c-ebd84896ba87"
      },
      "source": [
        "def iou(b1, b2):\n",
        "    l1, l2 = b1[0] - int(0.5 * b1[2]), b2[0] - int(0.5 * b2[2])\n",
        "    u1, u2 = l1 + b1[2] - 1, l2 + b2[2] - 1\n",
        "    intersection_w = max(0, min(u1, u2) - max(l1, l2) + 1)\n",
        "    if intersection_w == 0:\n",
        "        return 0\n",
        "    l1, l2 = b1[1] - int(0.5 * b1[3]), b2[1] - int(0.5 * b2[3])\n",
        "    u1, u2 = l1 + b1[3] - 1, l2 + b2[3] - 1\n",
        "    intersection_h = max(0, min(u1, u2) - max(l1, l2) + 1)\n",
        "    intersection = intersection_w * intersection_h\n",
        "    if intersection == 0:\n",
        "        return 0\n",
        "\n",
        "    union = b1[2] * b1[3] + b2[2] * b2[3] - intersection\n",
        "    if union == 0:\n",
        "        raise ValueError('Union value must not be a zero or negative number. (boxes: {}, {})'.format(b1, b2))\n",
        "\n",
        "    return intersection / union\n",
        "\n",
        "def kmeans_iou(boxes, k, n_iter=10):\n",
        "    n_boxes = len(boxes)\n",
        "    if k > n_boxes:\n",
        "        raise ValueError('k({}) must be less than or equal to the number of boxes({}).'.format(k, n_boxes))\n",
        "\n",
        "    # Update clusters and centroids alternately.\n",
        "    centroids = boxes[np.random.choice(n_boxes, k, replace=False)]\n",
        "    for _ in range(n_iter):\n",
        "        cluster_indices = np.array([np.argmax([iou(b, c) for c in centroids]) for b in boxes])\n",
        "        for i in range(k):\n",
        "            if np.count_nonzero(cluster_indices == i) == 0:\n",
        "                print(i)\n",
        "        centroids = [np.mean(boxes[cluster_indices == i], axis=0) for i in range(k)]\n",
        "\n",
        "    return np.array(centroids)\n",
        "\n",
        "boxes = []\n",
        "for annots in TRAIN_ANNOTATIAONS:\n",
        "    for obj in annots['object']:\n",
        "        x_min, x_max, y_min, y_max = obj['xmin'], obj['xmax'], obj['ymin'], obj['ymax']\n",
        "        center_x, center_y = (x_max + x_min) * 0.5, (y_max + y_min) * 0.5\n",
        "        width, height = x_max - x_min + 1, y_max - y_min + 1\n",
        "        boxes.append([center_x, center_y, width, height])\n",
        "\n",
        "        \n",
        "boxes = np.array(boxes, dtype=np.float32)\n",
        "anchors = kmeans_iou(boxes, 1, 10)[:, 2:]\n",
        "print(anchors)"
      ],
      "execution_count": null,
      "outputs": [
        {
          "output_type": "stream",
          "name": "stdout",
          "text": [
            "[[202.21478 309.0017 ]]\n"
          ]
        }
      ]
    },
    {
      "cell_type": "code",
      "metadata": {
        "trusted": true,
        "id": "Hpfha9T6Ru2d"
      },
      "source": [
        "def read_data(annotations, image_size, pixels_per_grid=32, no_label=False):\n",
        "    class_map = {0:'pack'}\n",
        "    num_classes = 1 #len(class_map)\n",
        "    grid_h, grid_w = [image_size[i] // pixels_per_grid for i in range(2)]\n",
        "    images = []\n",
        "    labels = []\n",
        "\n",
        "    for annotes in annotations:\n",
        "        im_path = annotes['filename']\n",
        "        # load image and resize image\n",
        "        im = imread(im_path)\n",
        "        im = np.array(im, dtype=np.float32)\n",
        "        im_origina_sizes = im.shape[:2]\n",
        "        im = resize(im, (image_size[1], image_size[0]))\n",
        "        if len(im.shape) == 2:\n",
        "            im = np.expand_dims(im, 2)\n",
        "            im = np.concatenate([im, im, im], -1)\n",
        "        images.append(im)\n",
        "\n",
        "        if no_label:\n",
        "            labels.append(0)\n",
        "            continue\n",
        "        label = np.zeros((grid_h, grid_w, len(anchors), 5 + num_classes))\n",
        "        for obj in annotes['object']:\n",
        "            x_min, x_max, y_min, y_max = obj['xmin'], obj['xmax'], obj['ymin'], obj['ymax']\n",
        "            oh, ow = im_origina_sizes\n",
        "            \n",
        "            x_min, y_min, x_max, y_max = x_min / ow, y_min / oh, x_max / ow, y_max / oh\n",
        "            x_min, y_min, x_max, y_max = np.clip([x_min, y_min, x_max, y_max], 0, 1)\n",
        "            \n",
        "            anchor_boxes = np.array(anchors) / np.array([ow, oh])\n",
        "            best_anchor = get_best_anchor(\n",
        "                anchor_boxes, [x_max - x_min, y_max - y_min])\n",
        "            cx = int(np.floor(0.5 * (x_min + x_max) * grid_w))\n",
        "            cy = int(np.floor(0.5 * (y_min + y_max) * grid_h))\n",
        "            label[cy, cx, best_anchor, 0:4] = [x_min, y_min, x_max, y_max]\n",
        "            label[cy, cx, best_anchor, 4] = 1.0\n",
        "            label[cy, cx, best_anchor, 5] = 1.0\n",
        "        labels.append(label)\n",
        "\n",
        "    X_set = np.array(images, dtype=np.float32)\n",
        "    y_set = np.array(labels, dtype=np.float32)\n",
        "\n",
        "    return X_set, y_set"
      ],
      "execution_count": null,
      "outputs": []
    },
    {
      "cell_type": "code",
      "metadata": {
        "trusted": true,
        "id": "nVcrP3ZhRu2e"
      },
      "source": [
        "IM_SIZE = (416, 416)\n",
        "NUM_CLASSES = 1\n",
        "VALID_RATIO = 0.1\n",
        "X_train, y_train = read_data(TRAIN_ANNOTATIAONS, IM_SIZE)"
      ],
      "execution_count": null,
      "outputs": []
    },
    {
      "cell_type": "code",
      "metadata": {
        "trusted": true,
        "id": "Zxy0FBYMRu2e"
      },
      "source": [
        "X_test, y_test = read_data(TEST_ANNOTATIONS, IM_SIZE)"
      ],
      "execution_count": null,
      "outputs": []
    },
    {
      "cell_type": "code",
      "metadata": {
        "id": "tpxaks19TgnS"
      },
      "source": [
        ""
      ],
      "execution_count": null,
      "outputs": []
    },
    {
      "cell_type": "code",
      "metadata": {
        "trusted": true,
        "id": "ND9zqAWtRu2f"
      },
      "source": [
        "class DataSet(object):\n",
        "\n",
        "    def __init__(self, images, labels=None):\n",
        "        if labels is not None:\n",
        "            assert images.shape[0] == labels.shape[0],\\\n",
        "                ('Number of examples mismatch, between images and labels')\n",
        "        self._num_examples = images.shape[0]\n",
        "        self._images = images\n",
        "        self._labels = labels  # NOTE: this can be None, if not given.\n",
        "        # image/label indices(can be permuted)\n",
        "        self._indices = np.arange(self._num_examples, dtype=np.uint)\n",
        "        self._reset()\n",
        "\n",
        "    def _reset(self):\n",
        "        \"\"\"Reset some variables.\"\"\"\n",
        "        self._epochs_completed = 0\n",
        "        self._index_in_epoch = 0\n",
        "\n",
        "    @property\n",
        "    def images(self):\n",
        "        return self._images\n",
        "\n",
        "    @property\n",
        "    def labels(self):\n",
        "        return self._labels\n",
        "\n",
        "    @property\n",
        "    def num_examples(self):\n",
        "        return self._num_examples\n",
        "\n",
        "    def sample_batch(self, batch_size, shuffle=True):\n",
        "        if shuffle:\n",
        "            indices = np.random.choice(self._num_examples, batch_size)\n",
        "        else:\n",
        "            indices = np.arange(batch_size)\n",
        "        batch_images = self._images[indices]\n",
        "        if self._labels is not None:\n",
        "            batch_labels = self._labels[indices]\n",
        "        else:\n",
        "            batch_labels = None\n",
        "        return batch_images, batch_labels\n",
        "\n",
        "    def next_batch(self, batch_size, shuffle=True):\n",
        "        start_index = self._index_in_epoch\n",
        "\n",
        "        # Shuffle the dataset, for the first epoch\n",
        "        if self._epochs_completed == 0 and start_index == 0 and shuffle:\n",
        "            np.random.shuffle(self._indices)\n",
        "\n",
        "        # Go to the next epoch, if current index goes beyond the total number\n",
        "        # of examples\n",
        "        if start_index + batch_size > self._num_examples:\n",
        "            # Increment the number of epochs completed\n",
        "            self._epochs_completed += 1\n",
        "            # Get the rest examples in this epoch\n",
        "            rest_num_examples = self._num_examples - start_index\n",
        "            indices_rest_part = self._indices[start_index:self._num_examples]\n",
        "\n",
        "            # Shuffle the dataset, after finishing a single epoch\n",
        "            if shuffle:\n",
        "                np.random.shuffle(self._indices)\n",
        "\n",
        "            # Start the next epoch\n",
        "            start_index = 0\n",
        "            self._index_in_epoch = batch_size - rest_num_examples\n",
        "            end_index = self._index_in_epoch\n",
        "            indices_new_part = self._indices[start_index:end_index]\n",
        "\n",
        "            images_rest_part = self._images[indices_rest_part]\n",
        "            images_new_part = self._images[indices_new_part]\n",
        "            batch_images = np.concatenate(\n",
        "                (images_rest_part, images_new_part), axis=0)\n",
        "            if self._labels is not None:\n",
        "                labels_rest_part = self._labels[indices_rest_part]\n",
        "                labels_new_part = self._labels[indices_new_part]\n",
        "                batch_labels = np.concatenate(\n",
        "                    (labels_rest_part, labels_new_part), axis=0)\n",
        "            else:\n",
        "                batch_labels = None\n",
        "        else:\n",
        "            self._index_in_epoch += batch_size\n",
        "            end_index = self._index_in_epoch\n",
        "            indices = self._indices[start_index:end_index]\n",
        "            batch_images = self._images[indices]\n",
        "            if self._labels is not None:\n",
        "                batch_labels = self._labels[indices]\n",
        "            else:\n",
        "                batch_labels = None\n",
        "\n",
        "        return batch_images, batch_labels"
      ],
      "execution_count": null,
      "outputs": []
    },
    {
      "cell_type": "code",
      "metadata": {
        "trusted": true,
        "id": "dO-N3PmsRu2g"
      },
      "source": [
        "train_set = DataSet(X_train, y_train)\n",
        "test_set = DataSet(X_test, y_test)"
      ],
      "execution_count": null,
      "outputs": []
    },
    {
      "cell_type": "code",
      "metadata": {
        "trusted": true,
        "colab": {
          "base_uri": "https://localhost:8080/"
        },
        "id": "7cQNJu3hRu2g",
        "outputId": "c39dbb9c-2ad7-4593-de11-f417bf4b6791"
      },
      "source": [
        "import tensorflow.compat.v1 as tf\n",
        "tf.disable_v2_behavior() "
      ],
      "execution_count": null,
      "outputs": [
        {
          "output_type": "stream",
          "name": "stdout",
          "text": [
            "WARNING:tensorflow:From /usr/local/lib/python3.7/dist-packages/tensorflow/python/compat/v2_compat.py:101: disable_resource_variables (from tensorflow.python.ops.variable_scope) is deprecated and will be removed in a future version.\n",
            "Instructions for updating:\n",
            "non-resource variables are not supported in the long term\n"
          ]
        }
      ]
    },
    {
      "cell_type": "code",
      "metadata": {
        "trusted": true,
        "id": "J4GYehfxRu2h"
      },
      "source": [
        "def conv_layer(x, filters, kernel_size, strides, padding='SAME', use_bias=True, **kwargs):\n",
        "    weights_stddev = kwargs.pop('weights_stddev', 0.01)\n",
        "    return tf.layers.conv2d(\n",
        "        x,            \n",
        "        filters,\n",
        "        kernel_size, \n",
        "        strides, \n",
        "        padding, \n",
        "        kernel_initializer=tf.random_normal_initializer(stddev=weights_stddev), \n",
        "        use_bias=use_bias\n",
        "    )\n",
        "\n",
        "def batchNormalization(x, is_train):\n",
        "    return tf.layers.batch_normalization(\n",
        "        x, \n",
        "        training=is_train, \n",
        "        momentum=0.99, \n",
        "        epsilon=0.001, \n",
        "        center=True, \n",
        "        scale=True\n",
        "    )\n",
        "\n",
        "def conv_bn_relu(x, filters, kernel_size, is_train, strides=(1, 1), padding='SAME', relu=True):\n",
        "    conv = conv_layer(x, filters, kernel_size, strides, padding, use_bias=False)\n",
        "    bn = batchNormalization(conv, is_train)\n",
        "    if relu:\n",
        "        return tf.nn.leaky_relu(bn, alpha=0.1)\n",
        "    else:\n",
        "        return bn\n",
        "\n",
        "def max_pool(x, side_l, stride, padding='SAME'):\n",
        "    return tf.nn.max_pool(x, ksize=[1, side_l, side_l, 1],\n",
        "                          strides=[1, stride, stride, 1], padding=padding)\n"
      ],
      "execution_count": null,
      "outputs": []
    },
    {
      "cell_type": "code",
      "metadata": {
        "trusted": true,
        "id": "HXXmj82wRu2h"
      },
      "source": [
        "input_shape = list(IM_SIZE) + [3]\n",
        "num_classes = NUM_CLASSES\n",
        "grid_size = [x // 32 for x in input_shape[:2]]\n",
        "num_anchors = len(anchors)\n",
        "\n",
        "# Prepare Input\n",
        "X = tf.placeholder(tf.float32, [None] + input_shape)\n",
        "y = tf.placeholder(tf.float32, [None] + grid_size + [num_anchors] + [5 + num_classes])\n",
        "is_train = tf.placeholder(tf.bool)"
      ],
      "execution_count": null,
      "outputs": []
    },
    {
      "cell_type": "code",
      "metadata": {
        "trusted": true,
        "id": "pYgAY12DRu2i"
      },
      "source": [
        "# init build graph\n",
        "graph = tf.get_default_graph()\n",
        "config = tf.ConfigProto()\n",
        "config.gpu_options.allow_growth = True"
      ],
      "execution_count": null,
      "outputs": []
    },
    {
      "cell_type": "code",
      "metadata": {
        "trusted": true,
        "colab": {
          "base_uri": "https://localhost:8080/"
        },
        "id": "HAeZHU9ERu2i",
        "outputId": "ef8ce129-004f-4691-fc32-4e09e01ac7ef"
      },
      "source": [
        "d = dict()\n",
        "\n",
        "#conv1 - batch_norm1 - leaky_relu1 - pool1\n",
        "with tf.variable_scope('layer1'):\n",
        "    d['conv1'] = conv_bn_relu(X, 32, (3, 3), is_train)\n",
        "    d['pool1'] = max_pool(d['conv1'], 2, 2, padding='SAME')\n",
        "# (416, 416, 3) --> (208, 208, 32)\n",
        "\n",
        "#conv2 - batch_norm2 - leaky_relu2 - pool2\n",
        "with tf.variable_scope('layer2'):\n",
        "    d['conv2'] = conv_bn_relu(d['pool1'], 64, (3, 3), is_train)\n",
        "    d['pool2'] = max_pool(d['conv2'], 2, 2, padding='SAME')\n",
        "# (208, 208, 32) --> (104, 104, 64)\n",
        "\n",
        "#conv3 - batch_norm3 - leaky_relu3\n",
        "with tf.variable_scope('layer3'):\n",
        "    d['conv3'] = conv_bn_relu(d['pool2'], 128, (3, 3), is_train)\n",
        "# (104, 104, 64) --> (104, 104, 128)\n",
        "\n",
        "#conv4 - batch_norm4 - leaky_relu4\n",
        "with tf.variable_scope('layer4'):\n",
        "    d['conv4'] = conv_bn_relu(d['conv3'], 64, (1, 1), is_train)\n",
        "# (104, 104, 128) --> (104, 104, 64)\n",
        "\n",
        "#conv5 - batch_norm5 - leaky_relu5 - pool5\n",
        "with tf.variable_scope('layer5'):\n",
        "    d['conv5'] = conv_bn_relu(d['conv4'], 128, (3, 3), is_train)\n",
        "    d['pool5'] = max_pool(d['conv5'], 2, 2, padding='SAME')\n",
        "# (104, 104, 64) --> (52, 52, 128)\n",
        "\n",
        "#conv6 - batch_norm6 - leaky_relu6\n",
        "with tf.variable_scope('layer6'):\n",
        "    d['conv6'] = conv_bn_relu(d['pool5'], 256, (3, 3), is_train)\n",
        "# (52, 52, 128) --> (52, 52, 256)\n",
        "\n",
        "#conv7 - batch_norm7 - leaky_relu7\n",
        "with tf.variable_scope('layer7'):\n",
        "    d['conv7'] = conv_bn_relu(d['conv6'], 128, (1, 1), is_train)\n",
        "# (52, 52, 256) --> (52, 52, 128)\n",
        "\n",
        "#conv8 - batch_norm8 - leaky_relu8 - pool8\n",
        "with tf.variable_scope('layer8'):\n",
        "    d['conv8'] = conv_bn_relu(d['conv7'], 256, (3, 3), is_train)\n",
        "    d['pool8'] = max_pool(d['conv8'], 2, 2, padding='SAME')\n",
        "# (52, 52, 128) --> (26, 26, 256)\n",
        "\n",
        "#conv9 - batch_norm9 - leaky_relu9\n",
        "with tf.variable_scope('layer9'):\n",
        "    d['conv9'] = conv_bn_relu(d['pool8'], 512, (3, 3), is_train)\n",
        "# (26, 26, 256) --> (26, 26, 512)\n",
        "\n",
        "#conv10 - batch_norm10 - leaky_relu10\n",
        "with tf.variable_scope('layer10'):\n",
        "    d['conv10'] = conv_bn_relu(d['conv9'], 256, (1, 1), is_train)\n",
        "# (26, 26, 512) --> (26, 26, 256)\n",
        "\n",
        "#conv11 - batch_norm11 - leaky_relu11\n",
        "with tf.variable_scope('layer11'):\n",
        "    d['conv11'] = conv_bn_relu(d['conv10'], 512, (3, 3), is_train)\n",
        "# (26, 26, 256) --> (26, 26, 512)\n",
        "\n",
        "#conv12 - batch_norm12 - leaky_relu12\n",
        "with tf.variable_scope('layer12'):\n",
        "    d['conv12'] = conv_bn_relu(d['conv11'], 256, (1, 1), is_train)\n",
        "# (26, 26, 512) --> (26, 26, 256)\n",
        "\n",
        "#conv13 - batch_norm13 - leaky_relu13 - pool13\n",
        "with tf.variable_scope('layer13'):\n",
        "    d['conv13'] = conv_bn_relu(d['conv12'], 512, (3, 3), is_train)\n",
        "    d['pool13'] = max_pool(d['conv13'], 2, 2, padding='SAME')\n",
        "# (26, 26, 256) --> (13, 13, 512)\n",
        "\n",
        "#conv14 - batch_norm14 - leaky_relu14\n",
        "with tf.variable_scope('layer14'):\n",
        "    d['conv14'] = conv_bn_relu(d['pool13'], 1024, (3, 3), is_train)\n",
        "# (13, 13, 512) --> (13, 13, 1024)\n",
        "\n",
        "#conv15 - batch_norm15 - leaky_relu15\n",
        "with tf.variable_scope('layer15'):\n",
        "    d['conv15'] = conv_bn_relu(d['conv14'], 512, (1, 1), is_train)\n",
        "# (13, 13, 1024) --> (13, 13, 512)\n",
        "\n",
        "#conv16 - batch_norm16 - leaky_relu16\n",
        "with tf.variable_scope('layer16'):\n",
        "    d['conv16'] = conv_bn_relu(d['conv15'], 1024, (3, 3), is_train)\n",
        "# (13, 13, 512) --> (13, 13, 1024)\n",
        "\n",
        "#conv17 - batch_norm16 - leaky_relu17\n",
        "with tf.variable_scope('layer17'):\n",
        "    d['conv17'] = conv_bn_relu(d['conv16'], 512, (1, 1), is_train)\n",
        "# (13, 13, 1024) --> (13, 13, 512)\n",
        "\n",
        "#conv18 - batch_norm18 - leaky_relu18\n",
        "with tf.variable_scope('layer18'):\n",
        "    d['conv18'] = conv_bn_relu(d['conv17'], 1024, (3, 3), is_train)\n",
        "# (13, 13, 512) --> (13, 13, 1024)\n",
        "\n",
        "#conv19 - batch_norm19 - leaky_relu19\n",
        "with tf.variable_scope('layer19'):\n",
        "    d['conv19'] = conv_bn_relu(d['conv18'], 1024, (3, 3), is_train)\n",
        "# (13, 13, 1024) --> (13, 13, 1024)\n",
        "\n",
        "#Detection Layer\n",
        "#conv20 - batch_norm20 - leaky_relu20\n",
        "with tf.variable_scope('layer20'):\n",
        "    d['conv20'] = conv_bn_relu(d['conv19'], 1024, (3, 3), is_train)\n",
        "# (13, 13, 1024) --> (13, 13, 1024)\n",
        "\n",
        "# concatenate layer20 and layer 13 using space to depth\n",
        "with tf.variable_scope('layer21'):\n",
        "    d['skip_connection'] = conv_bn_relu(d['conv13'], 64, (1, 1), is_train)\n",
        "    d['skip_space_to_depth_x2'] = tf.space_to_depth(\n",
        "        d['skip_connection'], block_size=2)\n",
        "    d['concat21'] = tf.concat(\n",
        "        [d['skip_space_to_depth_x2'], d['conv20']], axis=-1)\n",
        "# (13, 13, 1024) --> (13, 13, 256+1024)\n",
        "\n",
        "#conv22 - batch_norm22 - leaky_relu22\n",
        "with tf.variable_scope('layer22'):\n",
        "    d['conv22'] = conv_bn_relu(d['concat21'], 1024, (3, 3), is_train)\n",
        "# (13, 13, 1280) --> (13, 13, 1024)\n",
        "\n",
        "with tf.variable_scope('output_layer'):\n",
        "    output_channel = num_anchors * (5 + num_classes)\n",
        "    d['logits'] = conv_layer(d['conv22'], output_channel, (1, 1), (1, 1),\n",
        "                            padding='SAME', use_bias=True)\n",
        "    d['pred'] = tf.reshape(\n",
        "        d['logits'], (-1, grid_size[0], grid_size[1], num_anchors, 5 + num_classes))\n",
        "# (13, 13, 1024) --> (13, 13, num_anchors , (5 + num_classes))"
      ],
      "execution_count": null,
      "outputs": [
        {
          "output_type": "stream",
          "name": "stdout",
          "text": [
            "WARNING:tensorflow:From /usr/local/lib/python3.7/dist-packages/keras/layers/normalization/batch_normalization.py:520: _colocate_with (from tensorflow.python.framework.ops) is deprecated and will be removed in a future version.\n",
            "Instructions for updating:\n",
            "Colocations handled automatically by placer.\n"
          ]
        },
        {
          "output_type": "stream",
          "name": "stderr",
          "text": [
            "/usr/local/lib/python3.7/dist-packages/keras/legacy_tf_layers/convolutional.py:536: UserWarning: `tf.layers.conv2d` is deprecated and will be removed in a future version. Please Use `tf.keras.layers.Conv2D` instead.\n",
            "  warnings.warn('`tf.layers.conv2d` is deprecated and '\n",
            "/usr/local/lib/python3.7/dist-packages/keras/engine/base_layer_v1.py:1676: UserWarning: `layer.apply` is deprecated and will be removed in a future version. Please use `layer.__call__` method instead.\n",
            "  warnings.warn('`layer.apply` is deprecated and '\n",
            "/usr/local/lib/python3.7/dist-packages/keras/legacy_tf_layers/normalization.py:424: UserWarning: `tf.layers.batch_normalization` is deprecated and will be removed in a future version. Please use `tf.keras.layers.BatchNormalization` instead. In particular, `tf.control_dependencies(tf.GraphKeys.UPDATE_OPS)` should not be used (consult the `tf.keras.layers.BatchNormalization` documentation).\n",
            "  '`tf.layers.batch_normalization` is deprecated and '\n"
          ]
        }
      ]
    },
    {
      "cell_type": "code",
      "metadata": {
        "trusted": true,
        "id": "7C0Tgu9GRu2i"
      },
      "source": [
        "logits = d['logits']\n",
        "pred = d['pred']"
      ],
      "execution_count": null,
      "outputs": []
    },
    {
      "cell_type": "code",
      "metadata": {
        "trusted": true,
        "id": "AftQt8fBRu2j"
      },
      "source": [
        "loss_weights = [5, 5, 5, 0.5, 1.0]\n",
        "\n",
        "grid_h, grid_w = grid_size\n",
        "grid_wh = np.reshape([grid_w, grid_h], [1, 1, 1, 1, 2]).astype(np.float32)\n",
        "cxcy = np.transpose([np.tile(np.arange(grid_w), grid_h), \n",
        "                     np.repeat(np.arange(grid_h), grid_h)])\n",
        "cxcy = np.reshape(cxcy, (1, grid_h, grid_w, 1, 2))\n",
        "\n",
        "txty, twth = pred[..., 0:2], pred[..., 2:4]\n",
        "confidence = tf.sigmoid(pred[..., 4:5])\n",
        "class_probs = tf.nn.softmax(pred[..., 5:], axis=-1)\\\n",
        "            if num_classes > 1 else tf.sigmoid(pred[..., 5:])\n",
        "bxby = tf.sigmoid(txty) + cxcy\n",
        "pwph = np.reshape(anchors, (1, 1, 1, num_anchors, 2)) / 32\n",
        "bwbh = tf.exp(twth) * pwph\n",
        "\n",
        "# calculating for prediction\n",
        "nxny, nwnh = bxby / grid_wh, bwbh / grid_wh\n",
        "nx1ny1, nx2ny2 = nxny - 0.5 * nwnh, nxny + 0.5 * nwnh\n",
        "pred_y = tf.concat((nx1ny1, nx2ny2, confidence, class_probs), axis=-1)\n",
        "\n",
        "# calculating IoU for metric\n",
        "num_objects = tf.reduce_sum(y[..., 4:5], axis=[1, 2, 3, 4])\n",
        "max_nx1ny1 = tf.maximum(y[..., 0:2], nx1ny1)\n",
        "min_nx2ny2 = tf.minimum(y[..., 2:4], nx2ny2)\n",
        "intersect_wh = tf.maximum(min_nx2ny2 - max_nx1ny1, 0.0)\n",
        "intersect_area = tf.reduce_prod(intersect_wh, axis=-1)\n",
        "intersect_area = tf.where(\n",
        "    tf.equal(intersect_area, 0.0), tf.zeros_like(intersect_area), intersect_area)\n",
        "gt_box_area = tf.reduce_prod(y[..., 2:4] - y[..., 0:2], axis=-1)\n",
        "box_area = tf.reduce_prod(nx2ny2 - nx1ny1, axis=-1)\n",
        "iou = tf.truediv(intersect_area, (gt_box_area + box_area - intersect_area))\n",
        "\n",
        "gt_bxby = 0.5 * (y[..., 0:2] + y[..., 2:4]) * grid_wh\n",
        "gt_bwbh = (y[..., 2:4] - y[..., 0:2]) * grid_wh\n",
        "\n",
        "resp_mask = y[..., 4:5]\n",
        "no_resp_mask = 1.0 - resp_mask\n",
        "#gt_confidence = resp_mask * tf.expand_dims(iou, axis=-1)\n",
        "gt_confidence = resp_mask\n",
        "gt_class_probs = y[..., 5:]\n",
        "\n",
        "loss_bxby = loss_weights[0] * resp_mask * tf.square(gt_bxby - bxby)\n",
        "loss_bwbh = loss_weights[1] * resp_mask * tf.square(tf.sqrt(gt_bwbh) - tf.sqrt(bwbh))\n",
        "loss_resp_conf = loss_weights[2] * resp_mask * tf.square(gt_confidence - confidence)\n",
        "loss_no_resp_conf = loss_weights[3] * no_resp_mask * tf.square(gt_confidence - confidence)\n",
        "loss_class_probs = loss_weights[4] * resp_mask * tf.square(gt_class_probs - class_probs)\n",
        "\n",
        "merged_loss = tf.concat((\n",
        "                        loss_bxby,\n",
        "                        loss_bwbh,\n",
        "                        loss_resp_conf,\n",
        "                        loss_no_resp_conf,\n",
        "                        loss_class_probs\n",
        "                        ),\n",
        "                        axis=-1)\n",
        "total_loss = tf.reduce_sum(merged_loss, axis=-1)\n",
        "total_loss = tf.reduce_mean(total_loss)"
      ],
      "execution_count": null,
      "outputs": []
    },
    {
      "cell_type": "code",
      "metadata": {
        "trusted": true,
        "id": "2FyBnZQTRu2j"
      },
      "source": [
        "def nms(boxes, conf_thres=0.2, iou_thres=0.5):\n",
        "    x1 = boxes[..., 0]\n",
        "    y1 = boxes[..., 1]\n",
        "    x2 = boxes[..., 2]\n",
        "    y2 = boxes[..., 3]\n",
        "    areas = (x2 - x1) * (y2 - y1)\n",
        "    scores = boxes[..., 4]\n",
        "\n",
        "    keep = []\n",
        "    order = scores.argsort()[::-1]\n",
        "\n",
        "    while order.size > 0:\n",
        "        i = order[0]\n",
        "        keep.append(i)\n",
        "        xx1 = np.maximum(x1[i], x1[order[1:]])\n",
        "        yy1 = np.maximum(y1[i], y1[order[1:]])\n",
        "        xx2 = np.minimum(x2[i], x2[order[1:]])\n",
        "        yy2 = np.minimum(y2[i], y2[order[1:]])\n",
        "\n",
        "        w = np.maximum(0.0, xx2 - xx1)\n",
        "        h = np.maximum(0.0, yy2 - yy1)\n",
        "        inter = w * h\n",
        "        ovr = inter / (areas[i] + areas[order[1:]] - inter)\n",
        "\n",
        "        inds = np.where(ovr <= iou_thres)[0]\n",
        "        order = order[inds + 1]\n",
        "\n",
        "    nms_box = []\n",
        "    for idx in range(len(boxes)):\n",
        "        if idx in keep and boxes[idx, 4] > conf_thres:\n",
        "            nms_box.append(boxes[idx])\n",
        "        else:\n",
        "            nms_box.append(np.zeros(boxes.shape[-1]))\n",
        "    boxes = np.array(nms_box)\n",
        "    return boxes\n",
        "\n",
        "def convert_boxes(input_y):\n",
        "    is_batch = len(input_y.shape) == 5\n",
        "    if not is_batch:\n",
        "        input_y = np.expand_dims(input_y, 0)\n",
        "    boxes = np.reshape(input_y, (input_y.shape[0], -1, input_y.shape[-1]))\n",
        "    if is_batch:\n",
        "        return np.array(boxes)\n",
        "    else:\n",
        "        return boxes[0]\n",
        "\n",
        "def predict_nms_boxes(input_y, conf_thres=0.2, iou_thres=0.5):\n",
        "    is_batch = len(input_y.shape) == 5\n",
        "    if not is_batch:\n",
        "        input_y = np.expand_dims(input_y, 0)\n",
        "    boxes = np.reshape(input_y, (input_y.shape[0], -1, input_y.shape[-1]))\n",
        "    nms_boxes = []\n",
        "    for box in boxes:\n",
        "        nms_box = nms(box, conf_thres, iou_thres)\n",
        "        nms_boxes.append(nms_box)\n",
        "    if is_batch:\n",
        "        return np.array(nms_boxes)\n",
        "    else:\n",
        "        return nms_boxes[0]\n",
        "\n",
        "def cal_map(gt_bboxes, bboxes,thresholds=[0.4, 0.45, 0.5, 0.55, 0.6, 0.65, 0.7, 0.75]):\n",
        "    m_tot = 0.0\n",
        "    for iou_thres in thresholds:\n",
        "        p = 0\n",
        "        tp = 0\n",
        "        fn = 0\n",
        "        fp = 0\n",
        "        for idx, (gt, bbox) in enumerate(zip(gt_bboxes, bboxes)):\n",
        "            gt = gt[np.nonzero(np.any(gt > 0, axis=1))]\n",
        "            bbox = bbox[np.nonzero(np.any(bbox > 0, axis=1))]\n",
        "            p += len(gt)\n",
        "            if bbox.size == 0:\n",
        "                continue\n",
        "            iou = _cal_overlap(gt, bbox)\n",
        "            predicted_class = np.argmax(bbox[...,5:], axis=-1)\n",
        "            for g, area in zip(gt, iou):\n",
        "                gt_c = np.argmax(g[5:])\n",
        "                idx = np.argmax(area)\n",
        "                if np.max(area) > iou_thres and predicted_class[idx] == gt_c:\n",
        "                    tp += 1\n",
        "                else:\n",
        "                    fp += 1\n",
        "        fn = p - tp\n",
        "        m = tp / (tp + fp)\n",
        "        m_tot+=m\n",
        "    return m_tot/len(thresholds)\n",
        "\n",
        "def _cal_overlap(a, b):\n",
        "    area = (b[:, 2] - b[:, 0]) * (b[:, 3] - b[:, 1])\n",
        "\n",
        "    iw = np.minimum(np.expand_dims(a[:, 2], axis=1), b[:, 2]) - \\\n",
        "        np.maximum(np.expand_dims(a[:, 0], axis=1), b[:, 0])\n",
        "    ih = np.minimum(np.expand_dims(a[:, 3], axis=1), b[:, 3]) - \\\n",
        "        np.maximum(np.expand_dims(a[:, 1], axis=1), b[:, 1])\n",
        "\n",
        "    iw = np.maximum(iw, 0)\n",
        "    ih = np.maximum(ih, 0)\n",
        "    intersection = iw * ih\n",
        "\n",
        "    ua = np.expand_dims((a[:, 2] - a[:, 0]) *\n",
        "                        (a[:, 3] - a[:, 1]), axis=1) + area - intersection\n",
        "\n",
        "    ua = np.maximum(ua, np.finfo(float).eps)\n",
        "\n",
        "    return intersection / ua\n"
      ],
      "execution_count": null,
      "outputs": []
    },
    {
      "cell_type": "code",
      "metadata": {
        "trusted": true,
        "id": "KZmqS1avRu2j"
      },
      "source": [
        "def score(y_true, y_pred, **kwargs):\n",
        "    \"\"\"Compute Recall for a given predicted bboxes\"\"\"\n",
        "    nms_flag = kwargs.pop('nms_flag', True)\n",
        "    if nms_flag:\n",
        "        bboxes = predict_nms_boxes(y_pred)\n",
        "    else:\n",
        "        bboxes = convert_boxes(y_pred)\n",
        "    gt_bboxes = convert_boxes(y_true)\n",
        "    score = cal_map(gt_bboxes, bboxes)\n",
        "    return score\n",
        "\n",
        "def predict(sess, dataset, **kwargs):\n",
        "    batch_size = kwargs.pop('batch_size', 16)\n",
        "    pred_size = dataset.num_examples\n",
        "    num_steps = pred_size // batch_size\n",
        "    flag = int(bool(pred_size % batch_size))\n",
        "    # Start prediction loop\n",
        "    _y_pred = []\n",
        "    for i in range(num_steps + flag):\n",
        "        if i == num_steps and flag:\n",
        "            _batch_size = pred_size - num_steps * batch_size\n",
        "        else:\n",
        "            _batch_size = batch_size\n",
        "        X_true, _ = dataset.next_batch(_batch_size, shuffle=False)\n",
        "\n",
        "        # Compute predictions\n",
        "        y_pred = sess.run(pred_y, feed_dict={\n",
        "                          X: X_true, is_train: False})\n",
        "\n",
        "        _y_pred.append(y_pred)\n",
        "    _y_pred = np.concatenate(_y_pred, axis=0)\n",
        "    return _y_pred"
      ],
      "execution_count": null,
      "outputs": []
    },
    {
      "cell_type": "code",
      "metadata": {
        "trusted": true,
        "id": "cQmGaWKuRu2k"
      },
      "source": [
        "sess = tf.Session(graph=graph, config=config)\n",
        "saver = tf.train.Saver()"
      ],
      "execution_count": null,
      "outputs": []
    },
    {
      "cell_type": "code",
      "metadata": {
        "trusted": true,
        "id": "fP7g-fKARu2k"
      },
      "source": [
        "# Set hyperparameters for training\n",
        "batch_size = 2\n",
        "num_epochs = 100\n",
        "learning_rate = 1e-4\n",
        "eps = 1e-3\n",
        "num_eval = 128"
      ],
      "execution_count": null,
      "outputs": []
    },
    {
      "cell_type": "code",
      "metadata": {
        "trusted": true,
        "id": "vMtHbiMHRu2k"
      },
      "source": [
        "extra_update_ops = tf.get_collection(tf.GraphKeys.UPDATE_OPS)\n",
        "update_vars = tf.trainable_variables()\n",
        "with tf.control_dependencies(extra_update_ops):\n",
        "    train_op = tf.train.AdamOptimizer(learning_rate=learning_rate).\\\n",
        "                minimize(total_loss, var_list=update_vars)"
      ],
      "execution_count": null,
      "outputs": []
    },
    {
      "cell_type": "code",
      "metadata": {
        "trusted": true,
        "id": "CiCJRlO7Ru2k"
      },
      "source": [
        "sess.run(tf.global_variables_initializer())"
      ],
      "execution_count": null,
      "outputs": []
    },
    {
      "cell_type": "code",
      "metadata": {
        "trusted": true,
        "id": "Hctgo8vIRu2l"
      },
      "source": [
        "train_size = train_set.num_examples\n",
        "num_steps_per_epoch = train_size // batch_size\n",
        "num_steps = num_epochs * num_steps_per_epoch"
      ],
      "execution_count": null,
      "outputs": []
    },
    {
      "cell_type": "code",
      "metadata": {
        "trusted": true,
        "colab": {
          "base_uri": "https://localhost:8080/"
        },
        "id": "minkB2XFRu2l",
        "outputId": "2aa2c7cb-367c-42f2-c287-ddd6ce425609"
      },
      "source": [
        "curr_epoch = 1\n",
        "best_score = 0\n",
        "curr_score = 0\n",
        "# Start training loop\n",
        "for i in range(num_steps):\n",
        "    X_true, y_true = train_set.next_batch(batch_size, shuffle=True)\n",
        "    _, loss, y_pred = sess.run([train_op, total_loss, pred_y],\n",
        "                              feed_dict={X:X_true, y: y_true, is_train: True})\n",
        "    if (i+1) % num_eval == 0:\n",
        "        step_score = score(y_true, y_pred)\n",
        "        eval_y_pred = predict(sess, test_set)\n",
        "        eval_score = score(test_set.labels, eval_y_pred)\n",
        "        print('[epoch {}]\\tloss: {:.6f} |Train score: {:.6f} |Eval score: {:.6f}'\n",
        "      .format(curr_epoch, loss, step_score, eval_score))\n",
        "        curr_score = eval_score\n",
        "\n",
        "    if curr_score > best_score + eps:\n",
        "        best_score = curr_score\n",
        "        saver.save(sess, './yolov2.ckpt')\n",
        "        \n",
        "    if (i+1) % num_steps_per_epoch == 0:\n",
        "        curr_epoch += 1"
      ],
      "execution_count": null,
      "outputs": [
        {
          "output_type": "stream",
          "name": "stdout",
          "text": [
            "[epoch 1]\tloss: 0.431645 |Train score: 0.095395 |Eval score: 0.044842\n",
            "[epoch 2]\tloss: 0.176263 |Train score: 0.417969 |Eval score: 0.215368\n",
            "[epoch 3]\tloss: 0.196490 |Train score: 0.311111 |Eval score: 0.236158\n",
            "[epoch 4]\tloss: 0.155725 |Train score: 0.400915 |Eval score: 0.320947\n",
            "[epoch 5]\tloss: 0.480309 |Train score: 0.212963 |Eval score: 0.414316\n",
            "[epoch 6]\tloss: 0.162582 |Train score: 0.618243 |Eval score: 0.511053\n",
            "[epoch 7]\tloss: 0.133251 |Train score: 0.515625 |Eval score: 0.537263\n",
            "[epoch 8]\tloss: 0.088081 |Train score: 0.767361 |Eval score: 0.595316\n",
            "[epoch 9]\tloss: 0.087276 |Train score: 0.726786 |Eval score: 0.610789\n",
            "[epoch 10]\tloss: 0.067194 |Train score: 0.733333 |Eval score: 0.648684\n",
            "[epoch 10]\tloss: 0.092816 |Train score: 0.747727 |Eval score: 0.622316\n",
            "[epoch 11]\tloss: 0.071675 |Train score: 0.810000 |Eval score: 0.661158\n",
            "[epoch 12]\tloss: 0.079767 |Train score: 0.688380 |Eval score: 0.588842\n",
            "[epoch 13]\tloss: 0.057003 |Train score: 0.796296 |Eval score: 0.681737\n",
            "[epoch 14]\tloss: 0.047216 |Train score: 0.792151 |Eval score: 0.692105\n",
            "[epoch 15]\tloss: 0.095162 |Train score: 0.687500 |Eval score: 0.623421\n",
            "[epoch 16]\tloss: 0.074891 |Train score: 0.698529 |Eval score: 0.689579\n",
            "[epoch 17]\tloss: 0.047217 |Train score: 0.850000 |Eval score: 0.661263\n",
            "[epoch 18]\tloss: 0.031721 |Train score: 0.885776 |Eval score: 0.716526\n",
            "[epoch 19]\tloss: 0.034534 |Train score: 0.931962 |Eval score: 0.714421\n",
            "[epoch 20]\tloss: 0.029769 |Train score: 0.877273 |Eval score: 0.686789\n",
            "[epoch 20]\tloss: 0.038296 |Train score: 0.873494 |Eval score: 0.693105\n",
            "[epoch 21]\tloss: 0.047549 |Train score: 0.876453 |Eval score: 0.624158\n",
            "[epoch 22]\tloss: 0.024704 |Train score: 0.905660 |Eval score: 0.719211\n",
            "[epoch 23]\tloss: 0.026994 |Train score: 0.885870 |Eval score: 0.699789\n",
            "[epoch 24]\tloss: 0.025513 |Train score: 0.915584 |Eval score: 0.702632\n",
            "[epoch 25]\tloss: 0.017202 |Train score: 0.970588 |Eval score: 0.725053\n",
            "[epoch 26]\tloss: 0.031751 |Train score: 0.936364 |Eval score: 0.628737\n",
            "[epoch 27]\tloss: 0.050597 |Train score: 0.850309 |Eval score: 0.695474\n",
            "[epoch 28]\tloss: 0.063609 |Train score: 0.713028 |Eval score: 0.587895\n",
            "[epoch 29]\tloss: 0.033474 |Train score: 0.954861 |Eval score: 0.703632\n",
            "[epoch 30]\tloss: 0.021233 |Train score: 0.867378 |Eval score: 0.757368\n",
            "[epoch 30]\tloss: 0.015497 |Train score: 0.981557 |Eval score: 0.772105\n",
            "[epoch 31]\tloss: 0.019125 |Train score: 0.963235 |Eval score: 0.769000\n",
            "[epoch 32]\tloss: 0.014273 |Train score: 0.993304 |Eval score: 0.773000\n",
            "[epoch 33]\tloss: 0.012986 |Train score: 1.000000 |Eval score: 0.778789\n",
            "[epoch 34]\tloss: 0.024853 |Train score: 0.948529 |Eval score: 0.775263\n",
            "[epoch 35]\tloss: 0.008707 |Train score: 0.998512 |Eval score: 0.788632\n",
            "[epoch 36]\tloss: 0.021486 |Train score: 0.978846 |Eval score: 0.773895\n",
            "[epoch 37]\tloss: 0.008809 |Train score: 0.994863 |Eval score: 0.779263\n",
            "[epoch 38]\tloss: 0.007727 |Train score: 0.997917 |Eval score: 0.780053\n",
            "[epoch 39]\tloss: 0.008610 |Train score: 0.985714 |Eval score: 0.780211\n",
            "[epoch 40]\tloss: 0.006598 |Train score: 0.990741 |Eval score: 0.779368\n",
            "[epoch 40]\tloss: 0.027659 |Train score: 0.918651 |Eval score: 0.729842\n",
            "[epoch 41]\tloss: 0.032207 |Train score: 0.946970 |Eval score: 0.646684\n",
            "[epoch 42]\tloss: 0.103357 |Train score: 0.769737 |Eval score: 0.677421\n",
            "[epoch 43]\tloss: 0.031851 |Train score: 0.934896 |Eval score: 0.667263\n",
            "[epoch 44]\tloss: 0.015375 |Train score: 0.978365 |Eval score: 0.789789\n",
            "[epoch 45]\tloss: 0.022022 |Train score: 0.946721 |Eval score: 0.770211\n",
            "[epoch 46]\tloss: 0.017391 |Train score: 0.985915 |Eval score: 0.772105\n",
            "[epoch 47]\tloss: 0.025414 |Train score: 0.878731 |Eval score: 0.754105\n",
            "[epoch 48]\tloss: 0.011187 |Train score: 0.978571 |Eval score: 0.795632\n",
            "[epoch 49]\tloss: 0.005385 |Train score: 0.981132 |Eval score: 0.781526\n",
            "[epoch 50]\tloss: 0.014923 |Train score: 0.901316 |Eval score: 0.807368\n",
            "[epoch 50]\tloss: 0.004577 |Train score: 1.000000 |Eval score: 0.798105\n",
            "[epoch 51]\tloss: 0.007021 |Train score: 0.998106 |Eval score: 0.814684\n",
            "[epoch 52]\tloss: 0.005479 |Train score: 0.992647 |Eval score: 0.809263\n",
            "[epoch 53]\tloss: 0.004242 |Train score: 1.000000 |Eval score: 0.794474\n",
            "[epoch 54]\tloss: 0.002911 |Train score: 1.000000 |Eval score: 0.815842\n",
            "[epoch 55]\tloss: 0.002667 |Train score: 1.000000 |Eval score: 0.811421\n",
            "[epoch 56]\tloss: 0.004147 |Train score: 0.997951 |Eval score: 0.797000\n",
            "[epoch 57]\tloss: 0.005799 |Train score: 1.000000 |Eval score: 0.803368\n",
            "[epoch 58]\tloss: 0.006591 |Train score: 0.996875 |Eval score: 0.794211\n",
            "[epoch 59]\tloss: 0.122808 |Train score: 0.582143 |Eval score: 0.000000\n",
            "[epoch 60]\tloss: 0.094006 |Train score: 0.548611 |Eval score: 0.196316\n",
            "[epoch 60]\tloss: 0.056125 |Train score: 0.941964 |Eval score: 0.738053\n",
            "[epoch 61]\tloss: 0.066911 |Train score: 0.860417 |Eval score: 0.766263\n",
            "[epoch 62]\tloss: 0.065397 |Train score: 0.794643 |Eval score: 0.726000\n",
            "[epoch 63]\tloss: 0.034274 |Train score: 0.968750 |Eval score: 0.765895\n",
            "[epoch 64]\tloss: 0.021622 |Train score: 0.949728 |Eval score: 0.799263\n",
            "[epoch 65]\tloss: 0.021903 |Train score: 0.935606 |Eval score: 0.816053\n",
            "[epoch 66]\tloss: 0.017393 |Train score: 0.985390 |Eval score: 0.817211\n",
            "[epoch 67]\tloss: 0.051903 |Train score: 0.760638 |Eval score: 0.787053\n",
            "[epoch 68]\tloss: 0.012211 |Train score: 0.970395 |Eval score: 0.817947\n",
            "[epoch 69]\tloss: 0.010538 |Train score: 0.997881 |Eval score: 0.828211\n",
            "[epoch 69]\tloss: 0.012296 |Train score: 0.981013 |Eval score: 0.835211\n",
            "[epoch 70]\tloss: 0.015274 |Train score: 0.952160 |Eval score: 0.784211\n",
            "[epoch 71]\tloss: 0.025297 |Train score: 0.846154 |Eval score: 0.795579\n",
            "[epoch 72]\tloss: 0.011848 |Train score: 0.973404 |Eval score: 0.809000\n",
            "[epoch 73]\tloss: 0.012357 |Train score: 0.976266 |Eval score: 0.769053\n",
            "[epoch 74]\tloss: 0.018530 |Train score: 0.958333 |Eval score: 0.797421\n",
            "[epoch 75]\tloss: 0.006598 |Train score: 0.997396 |Eval score: 0.825368\n",
            "[epoch 76]\tloss: 0.030143 |Train score: 0.795673 |Eval score: 0.824421\n",
            "[epoch 77]\tloss: 0.014952 |Train score: 0.978814 |Eval score: 0.817632\n",
            "[epoch 78]\tloss: 0.005195 |Train score: 0.989583 |Eval score: 0.811421\n",
            "[epoch 79]\tloss: 0.007565 |Train score: 0.994318 |Eval score: 0.834263\n",
            "[epoch 79]\tloss: 0.006120 |Train score: 0.998580 |Eval score: 0.812895\n",
            "[epoch 80]\tloss: 0.006421 |Train score: 0.998188 |Eval score: 0.833474\n",
            "[epoch 81]\tloss: 0.002633 |Train score: 1.000000 |Eval score: 0.833105\n",
            "[epoch 82]\tloss: 0.006914 |Train score: 0.994718 |Eval score: 0.832737\n",
            "[epoch 83]\tloss: 0.004614 |Train score: 1.000000 |Eval score: 0.825842\n",
            "[epoch 84]\tloss: 0.008178 |Train score: 0.995192 |Eval score: 0.824526\n",
            "[epoch 85]\tloss: 0.006507 |Train score: 0.992188 |Eval score: 0.827263\n",
            "[epoch 86]\tloss: 0.005856 |Train score: 1.000000 |Eval score: 0.834684\n",
            "[epoch 87]\tloss: 0.014824 |Train score: 0.934783 |Eval score: 0.802737\n"
          ]
        },
        {
          "output_type": "stream",
          "name": "stderr",
          "text": [
            "/usr/local/lib/python3.7/dist-packages/ipykernel_launcher.py:23: RuntimeWarning: invalid value encountered in true_divide\n"
          ]
        },
        {
          "output_type": "stream",
          "name": "stdout",
          "text": [
            "[epoch 88]\tloss: 0.093178 |Train score: 0.887500 |Eval score: 0.112211\n",
            "[epoch 89]\tloss: 0.059245 |Train score: 0.873106 |Eval score: 0.513211\n",
            "[epoch 89]\tloss: 0.031650 |Train score: 0.950000 |Eval score: 0.701632\n",
            "[epoch 90]\tloss: 0.024955 |Train score: 0.965116 |Eval score: 0.802000\n",
            "[epoch 91]\tloss: 0.068211 |Train score: 0.911538 |Eval score: 0.521368\n",
            "[epoch 92]\tloss: 0.053660 |Train score: 0.878731 |Eval score: 0.803684\n",
            "[epoch 93]\tloss: 0.022432 |Train score: 0.981322 |Eval score: 0.810053\n",
            "[epoch 94]\tloss: 0.025753 |Train score: 0.926630 |Eval score: 0.808053\n",
            "[epoch 95]\tloss: 0.023741 |Train score: 0.921687 |Eval score: 0.832842\n",
            "[epoch 96]\tloss: 0.034767 |Train score: 0.899590 |Eval score: 0.825158\n",
            "[epoch 97]\tloss: 0.007794 |Train score: 0.992021 |Eval score: 0.834789\n",
            "[epoch 98]\tloss: 0.007988 |Train score: 1.000000 |Eval score: 0.834211\n",
            "[epoch 99]\tloss: 0.009936 |Train score: 0.992188 |Eval score: 0.840316\n",
            "[epoch 99]\tloss: 0.009791 |Train score: 0.994231 |Eval score: 0.835632\n",
            "[epoch 100]\tloss: 0.007404 |Train score: 0.997549 |Eval score: 0.829368\n"
          ]
        }
      ]
    },
    {
      "cell_type": "code",
      "metadata": {
        "trusted": true,
        "id": "o3chmXhHRu2l"
      },
      "source": [
        "\"\"\"\n",
        "color map for drawing boxes\n",
        "\"\"\"\n",
        "COLORS = [(0, 255, 0)]\n"
      ],
      "execution_count": null,
      "outputs": []
    },
    {
      "cell_type": "code",
      "metadata": {
        "trusted": true,
        "id": "djZ9jAZQRu2m"
      },
      "source": [
        "def draw_pred_boxes(image, pred_boxes, class_map, text=True, score=False):\n",
        "    im_h, im_w = image.shape[:2]\n",
        "    output = image.copy()\n",
        "    for box in pred_boxes:\n",
        "        overlay = output.copy()\n",
        "\n",
        "        class_idx = np.argmax(box[5:])\n",
        "        color = COLORS[class_idx]\n",
        "        line_width, alpha = (2, 0.8)\n",
        "        x_min, x_max = [int(x * im_w) for x in [box[0], box[2]]]\n",
        "        y_min, y_max = [int(x * im_h) for x in [box[1], box[3]]]\n",
        "        cv2.rectangle(overlay, (x_min, y_min),\n",
        "                      (x_max, y_max), color, line_width)\n",
        "        output = cv2.addWeighted(overlay, alpha, output, 1 - alpha, 0)\n",
        "\n",
        "        if text:\n",
        "            p_text = str(round(np.max(box[5:]), 3)) if score else class_map[str(class_idx)]\n",
        "            y_offset = -6\n",
        "            text_size = 0.6\n",
        "            text_line_width = 1\n",
        "            output = cv2.putText(output, p_text, (x_min + 4, y_min + y_offset),\n",
        "                                 cv2.FONT_HERSHEY_DUPLEX, text_size, color, text_line_width)\n",
        "    return output"
      ],
      "execution_count": null,
      "outputs": []
    },
    {
      "cell_type": "code",
      "metadata": {
        "trusted": true,
        "colab": {
          "base_uri": "https://localhost:8080/"
        },
        "id": "pfJjbGpdRu2m",
        "outputId": "4ebf8745-2e00-46fa-b021-42f2f6702683"
      },
      "source": [
        "saver.restore(sess, './yolov2.ckpt')"
      ],
      "execution_count": null,
      "outputs": [
        {
          "output_type": "stream",
          "name": "stdout",
          "text": [
            "INFO:tensorflow:Restoring parameters from ./yolov2.ckpt\n"
          ]
        }
      ]
    },
    {
      "cell_type": "code",
      "metadata": {
        "trusted": true,
        "colab": {
          "base_uri": "https://localhost:8080/"
        },
        "id": "2yg7yzORRu2m",
        "outputId": "2eadea5a-56f1-4123-e62d-2c0ae67e5d10"
      },
      "source": [
        "test_y_pred = predict(sess, test_set)\n",
        "test_score = score(test_set.labels, test_y_pred)\n",
        "\n",
        "print('Test performance: {}'.format(test_score))\n",
        "mAP = test_score\n",
        "\n",
        "test_bboxes = predict_nms_boxes(test_y_pred)\n",
        "gt_test_bboxes = convert_boxes(test_set.labels)\n",
        "\n",
        "precision = cal_map(test_bboxes, gt_test_bboxes, thresholds=[0.5])\n",
        "print(precision)"
      ],
      "execution_count": null,
      "outputs": [
        {
          "output_type": "stream",
          "name": "stdout",
          "text": [
            "Test performance: 0.8403157894736841\n",
            "0.8038610038610039\n"
          ]
        }
      ]
    },
    {
      "cell_type": "code",
      "metadata": {
        "trusted": true,
        "id": "S6n86_-2Ru2m"
      },
      "source": [
        "r_idx = np.random.choice(test_set.num_examples, 1)\n",
        "test_images = test_set.images[r_idx]\n",
        "test_pred_y = sess.run(pred_y, feed_dict={X: test_images, is_train: False})"
      ],
      "execution_count": null,
      "outputs": []
    },
    {
      "cell_type": "code",
      "metadata": {
        "trusted": true,
        "id": "JucIjIlzRu2m"
      },
      "source": [
        "bboxes = predict_nms_boxes(test_pred_y[0], conf_thres=0.5, iou_thres=0.5)\n",
        "bboxes = bboxes[np.nonzero(np.any(bboxes > 0, axis=1))]\n",
        "boxed_img = draw_pred_boxes(test_images[0], bboxes, {'0':'pack'})"
      ],
      "execution_count": null,
      "outputs": []
    },
    {
      "cell_type": "code",
      "metadata": {
        "trusted": true,
        "colab": {
          "base_uri": "https://localhost:8080/",
          "height": 265
        },
        "id": "skNX4QKBRu2m",
        "outputId": "c19231c0-f9c9-47af-fd4d-b19d6efd45f0"
      },
      "source": [
        "plt.axis(\"off\")\n",
        "imshow(cv2.cvtColor(boxed_img, cv2.COLOR_BGR2RGB)/255)"
      ],
      "execution_count": null,
      "outputs": [
        {
          "output_type": "execute_result",
          "data": {
            "text/plain": [
              "<matplotlib.image.AxesImage at 0x7f02a60d4750>"
            ]
          },
          "metadata": {},
          "execution_count": 50
        },
        {
          "output_type": "display_data",
          "data": {
            "image/png": "[encoded data removed]",
            "text/plain": [
              "<Figure size 432x288 with 1 Axes>"
            ]
          },
          "metadata": {
            "needs_background": "light"
          }
        }
      ]
    },
    {
      "cell_type": "code",
      "metadata": {
        "trusted": true,
        "id": "Oh7M1h80Ru2n"
      },
      "source": [
        "results_dict = {}\n",
        "for images, annot in zip(test_set.images, TEST_ANNOTATIONS):\n",
        "    test_pred_y = sess.run(pred_y, feed_dict={X: [images], is_train: False})\n",
        "    bboxes = predict_nms_boxes(test_pred_y[0], conf_thres=0.5, iou_thres=0.5)\n",
        "    bboxes = bboxes[np.nonzero(np.any(bboxes > 0, axis=1))]\n",
        "    results_dict[annot['filename']] = bboxes.shape[0]"
      ],
      "execution_count": null,
      "outputs": []
    },
    {
      "cell_type": "code",
      "metadata": {
        "trusted": true,
        "colab": {
          "base_uri": "https://localhost:8080/"
        },
        "id": "EUvz_ZsSRu2n",
        "outputId": "73bf05d6-d194-41d3-9013-0abd365006ab"
      },
      "source": [
        "results_dict"
      ],
      "execution_count": null,
      "outputs": [
        {
          "output_type": "execute_result",
          "data": {
            "text/plain": [
              "{'/content/ShelfImages/test/C1_P02_N1_S5_1.JPG': 43,\n",
              " '/content/ShelfImages/test/C1_P02_N2_S2_1.JPG': 22,\n",
              " '/content/ShelfImages/test/C1_P02_N2_S3_1.JPG': 28,\n",
              " '/content/ShelfImages/test/C1_P03_N1_S2_1.JPG': 23,\n",
              " '/content/ShelfImages/test/C1_P03_N1_S3_1.JPG': 59,\n",
              " '/content/ShelfImages/test/C1_P03_N1_S4_1.JPG': 49,\n",
              " '/content/ShelfImages/test/C1_P03_N1_S4_2.JPG': 45,\n",
              " '/content/ShelfImages/test/C1_P03_N2_S2_1.JPG': 25,\n",
              " '/content/ShelfImages/test/C1_P03_N2_S3_1.JPG': 52,\n",
              " '/content/ShelfImages/test/C1_P03_N3_S2_1.JPG': 26,\n",
              " '/content/ShelfImages/test/C1_P04_N1_S4_1.JPG': 50,\n",
              " '/content/ShelfImages/test/C1_P04_N3_S3_1.JPG': 40,\n",
              " '/content/ShelfImages/test/C1_P05_N2_S4_2.JPG': 41,\n",
              " '/content/ShelfImages/test/C1_P05_N4_S3_1.JPG': 36,\n",
              " '/content/ShelfImages/test/C1_P06_N1_S3_1.JPG': 33,\n",
              " '/content/ShelfImages/test/C1_P06_N1_S4_1.JPG': 45,\n",
              " '/content/ShelfImages/test/C1_P06_N1_S5_1.JPG': 50,\n",
              " '/content/ShelfImages/test/C1_P06_N3_S3_1.JPG': 36,\n",
              " '/content/ShelfImages/test/C1_P08_N2_S4_1.JPG': 52,\n",
              " '/content/ShelfImages/test/C1_P08_N3_S3_1.JPG': 38,\n",
              " '/content/ShelfImages/test/C1_P10_N1_S3_1.JPG': 32,\n",
              " '/content/ShelfImages/test/C1_P10_N1_S5_1.JPG': 50,\n",
              " '/content/ShelfImages/test/C1_P10_N2_S3_1.JPG': 33,\n",
              " '/content/ShelfImages/test/C1_P11_N1_S3_1.JPG': 27,\n",
              " '/content/ShelfImages/test/C1_P11_N1_S4_2.JPG': 37,\n",
              " '/content/ShelfImages/test/C1_P11_N2_S3_2.JPG': 26,\n",
              " '/content/ShelfImages/test/C1_P11_N2_S4_2.JPG': 37,\n",
              " '/content/ShelfImages/test/C1_P11_N2_S4_3.JPG': 36,\n",
              " '/content/ShelfImages/test/C1_P12_N1_S2_1.JPG': 10,\n",
              " '/content/ShelfImages/test/C1_P12_N1_S3_1.JPG': 18,\n",
              " '/content/ShelfImages/test/C1_P12_N1_S5_1.JPG': 25,\n",
              " '/content/ShelfImages/test/C1_P12_N2_S3_1.JPG': 13,\n",
              " '/content/ShelfImages/test/C2_P01_N1_S4_1.JPG': 49,\n",
              " '/content/ShelfImages/test/C2_P01_N2_S2_1.JPG': 27,\n",
              " '/content/ShelfImages/test/C2_P01_N3_S3_1.JPG': 38,\n",
              " '/content/ShelfImages/test/C2_P02_N1_S3_1.JPG': 36,\n",
              " '/content/ShelfImages/test/C2_P02_N1_S4_1.JPG': 44,\n",
              " '/content/ShelfImages/test/C2_P03_N2_S3_1.JPG': 23,\n",
              " '/content/ShelfImages/test/C2_P04_N3_S2_1.JPG': 24,\n",
              " '/content/ShelfImages/test/C2_P05_N3_S3_1.JPG': 33,\n",
              " '/content/ShelfImages/test/C2_P07_N1_S6_1.JPG': 52,\n",
              " '/content/ShelfImages/test/C2_P07_N2_S2_1.JPG': 17,\n",
              " '/content/ShelfImages/test/C2_P08_N3_S3_2.JPG': 27,\n",
              " '/content/ShelfImages/test/C3_P01_N1_S5_1.JPG': 38,\n",
              " '/content/ShelfImages/test/C3_P01_N2_S3_2.JPG': 23,\n",
              " '/content/ShelfImages/test/C3_P02_N1_S2_2.JPG': 22,\n",
              " '/content/ShelfImages/test/C3_P03_N1_S3_1.JPG': 35,\n",
              " '/content/ShelfImages/test/C3_P03_N2_S4_1.JPG': 44,\n",
              " '/content/ShelfImages/test/C3_P03_N3_S3_1.JPG': 38,\n",
              " '/content/ShelfImages/test/C3_P04_N1_S4_1.JPG': 35,\n",
              " '/content/ShelfImages/test/C3_P04_N1_S5_1.JPG': 43,\n",
              " '/content/ShelfImages/test/C3_P05_N3_S2_1.JPG': 24,\n",
              " '/content/ShelfImages/test/C3_P06_N1_S3_2.JPG': 34,\n",
              " '/content/ShelfImages/test/C3_P06_N2_S3_2.JPG': 34,\n",
              " '/content/ShelfImages/test/C3_P06_N4_S3_1.JPG': 39,\n",
              " '/content/ShelfImages/test/C4_P01_N2_S2_1.JPG': 22,\n",
              " '/content/ShelfImages/test/C4_P02_N4_S2_1.JPG': 24,\n",
              " '/content/ShelfImages/test/C4_P03_N1_S3_1.JPG': 34,\n",
              " '/content/ShelfImages/test/C4_P03_N1_S4_1.JPG': 42,\n",
              " '/content/ShelfImages/test/C4_P04_N1_S3_1.JPG': 29,\n",
              " '/content/ShelfImages/test/C4_P04_N2_S2_1.JPG': 15,\n",
              " '/content/ShelfImages/test/C4_P04_N4_S2_1.JPG': 13,\n",
              " '/content/ShelfImages/test/C4_P05_N2_S2_1.JPG': 22,\n",
              " '/content/ShelfImages/test/C4_P07_N1_S3_1.JPG': 39,\n",
              " '/content/ShelfImages/test/C4_P07_N1_S3_2.JPG': 36,\n",
              " '/content/ShelfImages/test/C4_P07_N3_S3_1.JPG': 38,\n",
              " '/content/ShelfImages/test/C4_P08_N1_S3_1.JPG': 33,\n",
              " '/content/ShelfImages/test/C4_P08_N1_S4_1.JPG': 44,\n",
              " '/content/ShelfImages/test/C4_P08_N1_S5_2.JPG': 52,\n",
              " '/content/ShelfImages/test/C4_P08_N2_S2_1.JPG': 23,\n",
              " '/content/ShelfImages/test/C4_P08_N3_S3_1.JPG': 35}"
            ]
          },
          "metadata": {},
          "execution_count": 52
        }
      ]
    },
    {
      "cell_type": "code",
      "metadata": {
        "trusted": true,
        "id": "buofoduSRu2n"
      },
      "source": [
        "metrics = {\n",
        "    \"mAP\" : mAP,\n",
        "    \"precision\": precision\n",
        "}"
      ],
      "execution_count": null,
      "outputs": []
    },
    {
      "cell_type": "code",
      "metadata": {
        "trusted": true,
        "id": "31JRvuuyRu2n"
      },
      "source": [
        "with open(\"metrics.json\", \"w\") as f:\n",
        "    json.dump(metrics, f)"
      ],
      "execution_count": null,
      "outputs": []
    },
    {
      "cell_type": "code",
      "metadata": {
        "trusted": true,
        "id": "LF3yNlowRu2n"
      },
      "source": [
        "with open(\"results.json\", \"w\") as f:\n",
        "    json.dump(results_dict, f)"
      ],
      "execution_count": null,
      "outputs": []
    },
    {
      "cell_type": "code",
      "metadata": {
        "colab": {
          "base_uri": "https://localhost:8080/"
        },
        "id": "QfGDVrTQZc2c",
        "outputId": "4adabe6c-df8d-4f5e-f674-24ee614790e4"
      },
      "source": [
        "print(\"metrics:\",metrics)"
      ],
      "execution_count": null,
      "outputs": [
        {
          "output_type": "stream",
          "name": "stdout",
          "text": [
            "metrics: {'mAP': 0.8403157894736841, 'precision': 0.8038610038610039}\n"
          ]
        }
      ]
    },
    {
      "cell_type": "code",
      "metadata": {
        "id": "JodsCCZaaB4X"
      },
      "source": [
        ""
      ],
      "execution_count": null,
      "outputs": []
    }
  ]
}